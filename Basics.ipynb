{
 "cells": [
  {
   "cell_type": "markdown",
   "id": "a5a7eaa6",
   "metadata": {},
   "source": [
    "### Print Statement"
   ]
  },
  {
   "cell_type": "code",
   "execution_count": 1,
   "id": "8a6aa9a1",
   "metadata": {},
   "outputs": [
    {
     "name": "stdout",
     "output_type": "stream",
     "text": [
      "Hello World\n"
     ]
    }
   ],
   "source": [
    "print('Hello World')"
   ]
  },
  {
   "cell_type": "markdown",
   "id": "cc36efd5",
   "metadata": {},
   "source": [
    "### Input"
   ]
  },
  {
   "cell_type": "code",
   "execution_count": 4,
   "id": "872edd28",
   "metadata": {},
   "outputs": [
    {
     "name": "stdout",
     "output_type": "stream",
     "text": [
      "Enter the string: hello\n",
      "hello\n"
     ]
    }
   ],
   "source": [
    "entered_string = input('Enter the string: ')\n",
    "print(entered_string)"
   ]
  },
  {
   "cell_type": "code",
   "execution_count": 5,
   "id": "c53c267d",
   "metadata": {},
   "outputs": [
    {
     "name": "stdout",
     "output_type": "stream",
     "text": [
      "Enter an integer: 4\n",
      "4\n"
     ]
    }
   ],
   "source": [
    "entered_int = int(input('Enter an integer: '))\n",
    "print(entered_int)"
   ]
  },
  {
   "cell_type": "markdown",
   "id": "c3cd63d8",
   "metadata": {},
   "source": [
    "### Comment"
   ]
  },
  {
   "cell_type": "code",
   "execution_count": 8,
   "id": "31d5e117",
   "metadata": {},
   "outputs": [],
   "source": [
    "# This is a comment"
   ]
  },
  {
   "cell_type": "markdown",
   "id": "5e11c7a4",
   "metadata": {},
   "source": [
    "### String"
   ]
  },
  {
   "cell_type": "code",
   "execution_count": 11,
   "id": "4b34da99",
   "metadata": {},
   "outputs": [
    {
     "name": "stdout",
     "output_type": "stream",
     "text": [
      "Hello World!\n"
     ]
    }
   ],
   "source": [
    "single_line_str = 'Hello World!'\n",
    "print(single_line_str)"
   ]
  },
  {
   "cell_type": "code",
   "execution_count": 10,
   "id": "23a22d6b",
   "metadata": {},
   "outputs": [
    {
     "name": "stdout",
     "output_type": "stream",
     "text": [
      "Hello World!\n",
      "This is a multi-line paragraph\n"
     ]
    }
   ],
   "source": [
    "mult_line_str = '''Hello World!\n",
    "This is a multi-line paragraph'''\n",
    "print(mult_line_str)"
   ]
  },
  {
   "cell_type": "markdown",
   "id": "594e81a3",
   "metadata": {},
   "source": [
    "### If-else block"
   ]
  },
  {
   "cell_type": "code",
   "execution_count": 6,
   "id": "5ddbb36e",
   "metadata": {},
   "outputs": [
    {
     "name": "stdout",
     "output_type": "stream",
     "text": [
      "If block\n"
     ]
    }
   ],
   "source": [
    "if True:\n",
    "    print('If block')\n",
    "else:\n",
    "    print('Else block')"
   ]
  },
  {
   "cell_type": "code",
   "execution_count": 7,
   "id": "05440e12",
   "metadata": {},
   "outputs": [
    {
     "name": "stdout",
     "output_type": "stream",
     "text": [
      "Number between 5 and 10\n"
     ]
    }
   ],
   "source": [
    "num = 8\n",
    "if num<=5:\n",
    "    print('Number less than or equal to 5')\n",
    "elif num>5 and num<=10:\n",
    "    print('Number between 5 and 10')\n",
    "else:\n",
    "    print('Number greater than 10')"
   ]
  },
  {
   "cell_type": "markdown",
   "id": "187c463f",
   "metadata": {},
   "source": [
    "### Multiple code statements on same line"
   ]
  },
  {
   "cell_type": "code",
   "execution_count": 14,
   "id": "71f1457f",
   "metadata": {},
   "outputs": [
    {
     "name": "stdout",
     "output_type": "stream",
     "text": [
      "100\n"
     ]
    }
   ],
   "source": [
    "num = 100; print(num)"
   ]
  },
  {
   "cell_type": "code",
   "execution_count": null,
   "id": "bd1e91fe",
   "metadata": {},
   "outputs": [],
   "source": []
  },
  {
   "cell_type": "code",
   "execution_count": null,
   "id": "082c138b",
   "metadata": {},
   "outputs": [],
   "source": []
  }
 ],
 "metadata": {
  "kernelspec": {
   "display_name": "Python (tensorflow)",
   "language": "python",
   "name": "tsm_env"
  },
  "language_info": {
   "codemirror_mode": {
    "name": "ipython",
    "version": 3
   },
   "file_extension": ".py",
   "mimetype": "text/x-python",
   "name": "python",
   "nbconvert_exporter": "python",
   "pygments_lexer": "ipython3",
   "version": "3.10.10"
  }
 },
 "nbformat": 4,
 "nbformat_minor": 5
}
