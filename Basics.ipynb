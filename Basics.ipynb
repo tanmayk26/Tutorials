{
 "cells": [
  {
   "cell_type": "markdown",
   "id": "2e153f0b",
   "metadata": {},
   "source": [
    "### Print Statement"
   ]
  },
  {
   "cell_type": "code",
   "execution_count": 1,
   "id": "ca039f81",
   "metadata": {},
   "outputs": [
    {
     "name": "stdout",
     "output_type": "stream",
     "text": [
      "Hello World\n"
     ]
    }
   ],
   "source": [
    "print('Hello World')"
   ]
  },
  {
   "cell_type": "markdown",
   "id": "c131a104",
   "metadata": {},
   "source": [
    "### Input"
   ]
  },
  {
   "cell_type": "code",
   "execution_count": 4,
   "id": "33c8cae0",
   "metadata": {},
   "outputs": [
    {
     "name": "stdout",
     "output_type": "stream",
     "text": [
      "Enter the string: hello\n",
      "hello\n"
     ]
    }
   ],
   "source": [
    "entered_string = input('Enter the string: ')\n",
    "print(entered_string)"
   ]
  },
  {
   "cell_type": "code",
   "execution_count": 5,
   "id": "f2f2ed25",
   "metadata": {},
   "outputs": [
    {
     "name": "stdout",
     "output_type": "stream",
     "text": [
      "Enter an integer: 4\n",
      "4\n"
     ]
    }
   ],
   "source": [
    "entered_int = int(input('Enter an integer: '))\n",
    "print(entered_int)"
   ]
  },
  {
   "cell_type": "markdown",
   "id": "47b582fb",
   "metadata": {},
   "source": [
    "### Comment"
   ]
  },
  {
   "cell_type": "code",
   "execution_count": 8,
   "id": "44d718cd",
   "metadata": {},
   "outputs": [],
   "source": [
    "# This is a comment"
   ]
  },
  {
   "cell_type": "markdown",
   "id": "e2d7f9a9",
   "metadata": {},
   "source": [
    "### String"
   ]
  },
  {
   "cell_type": "code",
   "execution_count": 11,
   "id": "d7ecad62",
   "metadata": {},
   "outputs": [
    {
     "name": "stdout",
     "output_type": "stream",
     "text": [
      "Hello World!\n"
     ]
    }
   ],
   "source": [
    "single_line_str = 'Hello World!'\n",
    "print(single_line_str)"
   ]
  },
  {
   "cell_type": "code",
   "execution_count": 10,
   "id": "a5e7dd3c",
   "metadata": {},
   "outputs": [
    {
     "name": "stdout",
     "output_type": "stream",
     "text": [
      "Hello World!\n",
      "This is a multi-line paragraph\n"
     ]
    }
   ],
   "source": [
    "mult_line_str = '''Hello World!\n",
    "This is a multi-line paragraph'''\n",
    "print(mult_line_str)"
   ]
  },
  {
   "cell_type": "markdown",
   "id": "29370b76",
   "metadata": {},
   "source": [
    "### If-else block"
   ]
  },
  {
   "cell_type": "code",
   "execution_count": 6,
   "id": "a38eb6e8",
   "metadata": {},
   "outputs": [
    {
     "name": "stdout",
     "output_type": "stream",
     "text": [
      "If block\n"
     ]
    }
   ],
   "source": [
    "if True:\n",
    "    print('If block')\n",
    "else:\n",
    "    print('Else block')"
   ]
  },
  {
   "cell_type": "code",
   "execution_count": 7,
   "id": "1268683f",
   "metadata": {},
   "outputs": [
    {
     "name": "stdout",
     "output_type": "stream",
     "text": [
      "Number between 5 and 10\n"
     ]
    }
   ],
   "source": [
    "num = 8\n",
    "if num<=5:\n",
    "    print('Number less than or equal to 5')\n",
    "elif num>5 and num<=10:\n",
    "    print('Number between 5 and 10')\n",
    "else:\n",
    "    print('Number greater than 10')"
   ]
  },
  {
   "cell_type": "markdown",
   "id": "63a59c7a",
   "metadata": {},
   "source": [
    "### Multiple code statements on same line"
   ]
  },
  {
   "cell_type": "code",
   "execution_count": 15,
   "id": "ad7acef4",
   "metadata": {},
   "outputs": [
    {
     "name": "stdout",
     "output_type": "stream",
     "text": [
      "100.6\n"
     ]
    }
   ],
   "source": [
    "num = 100.6; print(num)"
   ]
  },
  {
   "cell_type": "markdown",
   "id": "2f388c57",
   "metadata": {},
   "source": [
    "### Variable Assignment"
   ]
  },
  {
   "cell_type": "code",
   "execution_count": 17,
   "id": "beb6f5c7",
   "metadata": {},
   "outputs": [
    {
     "name": "stdout",
     "output_type": "stream",
     "text": [
      "4 4 4\n"
     ]
    }
   ],
   "source": [
    "x = y = z = 4\n",
    "print(x, y, z)"
   ]
  },
  {
   "cell_type": "code",
   "execution_count": 20,
   "id": "45a2e362",
   "metadata": {},
   "outputs": [
    {
     "name": "stdout",
     "output_type": "stream",
     "text": [
      "4 5.4 Jack\n"
     ]
    }
   ],
   "source": [
    "x, y, name = 4, 5.4, 'Jack'\n",
    "print(x, y, name)"
   ]
  },
  {
   "cell_type": "code",
   "execution_count": 21,
   "id": "7a446ee3",
   "metadata": {},
   "outputs": [
    {
     "name": "stdout",
     "output_type": "stream",
     "text": [
      "<class 'int'> <class 'float'> <class 'str'>\n"
     ]
    }
   ],
   "source": [
    "print(type(x), type(y), type(name))"
   ]
  },
  {
   "cell_type": "markdown",
   "id": "cdad2854",
   "metadata": {},
   "source": [
    "### String Operations"
   ]
  },
  {
   "cell_type": "code",
   "execution_count": 24,
   "id": "476e0ace",
   "metadata": {},
   "outputs": [
    {
     "name": "stdout",
     "output_type": "stream",
     "text": [
      "Full string:  Jack Ryan\n",
      "First charachter:  J\n",
      "Second till fourth char:  ac\n",
      "Third till end:  ck Ryan\n",
      "String 2 times:  Jack RyanJack Ryan\n",
      "Concat string:  Agent Jack Ryan\n"
     ]
    }
   ],
   "source": [
    "name = 'Jack Ryan'\n",
    "\n",
    "print('Full string: ', name)\n",
    "print('First charachter: ', name[0])\n",
    "print('Second till fourth char: ', name[1:3])\n",
    "print('Third till end: ', name[2:])\n",
    "print('String 2 times: ', name * 2)\n",
    "print('Concat string: ', 'Agent ' + name)"
   ]
  },
  {
   "cell_type": "markdown",
   "id": "8f0b0e53",
   "metadata": {},
   "source": [
    "### List"
   ]
  },
  {
   "cell_type": "code",
   "execution_count": null,
   "id": "203a21d3",
   "metadata": {},
   "outputs": [],
   "source": []
  },
  {
   "cell_type": "code",
   "execution_count": null,
   "id": "16c702fd",
   "metadata": {},
   "outputs": [],
   "source": []
  }
 ],
 "metadata": {
  "kernelspec": {
   "display_name": "Python (tensorflow)",
   "language": "python",
   "name": "tsm_env"
  },
  "language_info": {
   "codemirror_mode": {
    "name": "ipython",
    "version": 3
   },
   "file_extension": ".py",
   "mimetype": "text/x-python",
   "name": "python",
   "nbconvert_exporter": "python",
   "pygments_lexer": "ipython3",
   "version": "3.10.10"
  }
 },
 "nbformat": 4,
 "nbformat_minor": 5
}
